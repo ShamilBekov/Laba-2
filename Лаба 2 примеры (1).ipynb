{
 "cells": [
  {
   "cell_type": "markdown",
   "id": "773d0c9b-f9f8-4a6d-afb7-15d88af110ed",
   "metadata": {},
   "source": [
    "**Примеры:**"
   ]
  },
  {
   "cell_type": "markdown",
   "id": "9a740abb-510c-4cd2-a341-799e9c8027e3",
   "metadata": {},
   "source": [
    "1. Создание массива:"
   ]
  },
  {
   "cell_type": "code",
   "execution_count": 802,
   "id": "2e132483-8b00-4476-9637-03e6347f3645",
   "metadata": {},
   "outputs": [
    {
     "name": "stdout",
     "output_type": "stream",
     "text": [
      "[5 7 9]\n"
     ]
    }
   ],
   "source": [
    "import numpy as np\n",
    "a = np.array([1, 2, 3])\n",
    "b = np.array([4, 5, 6])\n",
    "result = a + b\n",
    "print(result)"
   ]
  },
  {
   "cell_type": "markdown",
   "id": "551a72d0-a5ad-4279-9361-91226345563b",
   "metadata": {},
   "source": [
    "2. Операции с массивами:"
   ]
  },
  {
   "cell_type": "code",
   "execution_count": 805,
   "id": "0273d4fc-a760-42ad-ada9-0ff4da98ec54",
   "metadata": {},
   "outputs": [
    {
     "name": "stdout",
     "output_type": "stream",
     "text": [
      "[5 7 9]\n"
     ]
    }
   ],
   "source": [
    "arr1 = np.array([1, 2, 3])\n",
    "arr2 = np.array([4, 5, 6])\n",
    "result = arr1 + arr2\n",
    "print(result)"
   ]
  },
  {
   "cell_type": "markdown",
   "id": "b0d225d5-3a58-4a53-bdf7-567f44ca854d",
   "metadata": {},
   "source": [
    "2.1. Матричные операции:"
   ]
  },
  {
   "cell_type": "code",
   "execution_count": 808,
   "id": "1b1b4a87-f911-4c89-9f8b-387c771df941",
   "metadata": {},
   "outputs": [
    {
     "name": "stdout",
     "output_type": "stream",
     "text": [
      "[[19 22]\n",
      " [43 50]]\n"
     ]
    }
   ],
   "source": [
    "matrix1 = np.array([[1, 2], [3, 4]])\n",
    "matrix2 = np.array([[5, 6], [7, 8]])\n",
    "result = np.dot(matrix1, matrix2)\n",
    "print(result)"
   ]
  },
  {
   "cell_type": "markdown",
   "id": "770f1bd1-99e7-49bd-a3dc-8ab259fad736",
   "metadata": {},
   "source": [
    "2.2. Статистические функции:"
   ]
  },
  {
   "cell_type": "code",
   "execution_count": 811,
   "id": "3938341f-f3cb-49ac-9ed1-57f07d335159",
   "metadata": {},
   "outputs": [
    {
     "name": "stdout",
     "output_type": "stream",
     "text": [
      "3.0 \n",
      " 1.4142135623730951\n"
     ]
    }
   ],
   "source": [
    "data = np.array([1, 2, 3, 4, 5])\n",
    "mean = np.mean(data) \n",
    "std_dev = np.std(data)\n",
    "print(mean, \"\\n\", std_dev)"
   ]
  },
  {
   "cell_type": "markdown",
   "id": "2eeaa7cc-5257-4d68-8d8a-de292bc531d9",
   "metadata": {},
   "source": [
    "3. Поддержка векторизации."
   ]
  },
  {
   "cell_type": "code",
   "execution_count": 814,
   "id": "83f6a6f7-7bd2-4b3e-b7ba-0eb573842311",
   "metadata": {},
   "outputs": [
    {
     "name": "stdout",
     "output_type": "stream",
     "text": [
      "[2 4 6 8]\n"
     ]
    }
   ],
   "source": [
    "import numpy as np\n",
    "arr = np.array([1, 2, 3, 4])\n",
    "result = arr * 2\n",
    "print(result)"
   ]
  },
  {
   "cell_type": "markdown",
   "id": "86aea781-c921-4b9b-ae70-4a2fbb1298f1",
   "metadata": {},
   "source": [
    "4. **Удобная работа с файлами и внешними источниками данных.**"
   ]
  },
  {
   "cell_type": "markdown",
   "id": "aed7d265-5d22-4e15-b976-8d7c372f1e1f",
   "metadata": {},
   "source": [
    "4.1. Доступ к элементам массива"
   ]
  },
  {
   "cell_type": "code",
   "execution_count": 817,
   "id": "0909c339-ded3-42ae-aee5-4bf0aa57a4fc",
   "metadata": {},
   "outputs": [
    {
     "name": "stdout",
     "output_type": "stream",
     "text": [
      "[[1 2 3 4]\n",
      " [5 6 7 8]\n",
      " [9 1 5 7]]\n"
     ]
    }
   ],
   "source": [
    "import numpy as np\n",
    "m = np.matrix('1 2 3 4; 5 6 7 8; 9 1 5 7')\n",
    "print(m)"
   ]
  },
  {
   "cell_type": "markdown",
   "id": "77280654-1726-48ce-8029-3cd7b11b7033",
   "metadata": {},
   "source": [
    "4.2. Элемент матрицы с заданными координатами."
   ]
  },
  {
   "cell_type": "code",
   "execution_count": 819,
   "id": "5560089d-d525-449a-930d-d02841fdf00d",
   "metadata": {},
   "outputs": [
    {
     "name": "stdout",
     "output_type": "stream",
     "text": [
      "5\n"
     ]
    }
   ],
   "source": [
    "print(m[1, 0])\n"
   ]
  },
  {
   "cell_type": "markdown",
   "id": "05627bb1-1abe-45b0-8bf4-6f0f3526811f",
   "metadata": {},
   "source": [
    "4.2. Строка массива."
   ]
  },
  {
   "cell_type": "code",
   "execution_count": 824,
   "id": "6f400a77-6742-4121-a787-599e03fa9eb0",
   "metadata": {},
   "outputs": [
    {
     "name": "stdout",
     "output_type": "stream",
     "text": [
      "[[5 6 7 8]]\n"
     ]
    }
   ],
   "source": [
    "print(m[1,:])\n"
   ]
  },
  {
   "cell_type": "markdown",
   "id": "2761b325-0a48-4c8f-8514-4ffd44df06b6",
   "metadata": {},
   "source": [
    "4.3. Столбец массива."
   ]
  },
  {
   "cell_type": "code",
   "execution_count": 827,
   "id": "dea83d9e-2a10-40d4-ae30-862d15855001",
   "metadata": {},
   "outputs": [
    {
     "name": "stdout",
     "output_type": "stream",
     "text": [
      "[[3]\n",
      " [7]\n",
      " [5]]\n"
     ]
    }
   ],
   "source": [
    "print(m[:, 2])"
   ]
  },
  {
   "cell_type": "markdown",
   "id": "dac818af-9f91-47de-89fb-cdb50764b29a",
   "metadata": {},
   "source": [
    "4.4. Часть строки массива."
   ]
  },
  {
   "cell_type": "code",
   "execution_count": 830,
   "id": "d2425fd5-1039-406c-a21c-64154567895c",
   "metadata": {},
   "outputs": [
    {
     "name": "stdout",
     "output_type": "stream",
     "text": [
      "[[7 8]]\n"
     ]
    }
   ],
   "source": [
    "print(m[1, 2:])\n"
   ]
  },
  {
   "cell_type": "markdown",
   "id": "7b00c517-d72d-4b8f-9ac4-f57898b453cd",
   "metadata": {},
   "source": [
    "4.5. Часть столбца массива."
   ]
  },
  {
   "cell_type": "code",
   "execution_count": 833,
   "id": "a415d213-ccbb-42be-bfea-e74ae92320fb",
   "metadata": {},
   "outputs": [
    {
     "name": "stdout",
     "output_type": "stream",
     "text": [
      "[[2]\n",
      " [6]]\n"
     ]
    }
   ],
   "source": [
    "print(m[0:2,1])\n"
   ]
  },
  {
   "cell_type": "markdown",
   "id": "e1a57963-ea1e-4373-9d5d-c91c3f10c242",
   "metadata": {},
   "source": [
    "4.6. Непрерывная часть массива."
   ]
  },
  {
   "cell_type": "code",
   "execution_count": 836,
   "id": "985de0b2-43f0-40cb-bd6a-0c957241a41f",
   "metadata": {},
   "outputs": [
    {
     "name": "stdout",
     "output_type": "stream",
     "text": [
      "[[2 3]\n",
      " [6 7]]\n"
     ]
    }
   ],
   "source": [
    "print(m[0:2,1:3])\n"
   ]
  },
  {
   "cell_type": "markdown",
   "id": "220568ca-525e-4edb-8976-bb09821e5f9a",
   "metadata": {},
   "source": [
    "4.7. Произвольные стольцы/строки массива."
   ]
  },
  {
   "cell_type": "code",
   "execution_count": 839,
   "id": "ead2a074-2fc8-4d14-b138-62a0631dd310",
   "metadata": {},
   "outputs": [
    {
     "name": "stdout",
     "output_type": "stream",
     "text": [
      "[[1 2 4]\n",
      " [5 6 8]\n",
      " [9 1 7]]\n"
     ]
    }
   ],
   "source": [
    "cols=[0,1,3]\n",
    "print(m[:,cols])"
   ]
  },
  {
   "cell_type": "markdown",
   "id": "810111bf-afcb-4012-92be-26a6b7598e61",
   "metadata": {},
   "source": [
    "5. Расчет статистик по данным в массиве."
   ]
  },
  {
   "cell_type": "code",
   "execution_count": 842,
   "id": "b1688829-8c00-4267-896e-c0f4f17df487",
   "metadata": {},
   "outputs": [
    {
     "name": "stdout",
     "output_type": "stream",
     "text": [
      "[[1 2 3 4]\n",
      " [5 6 7 8]\n",
      " [9 1 5 7]]\n"
     ]
    }
   ],
   "source": [
    "m = np.matrix('1 2 3 4; 5 6 7 8; 9 1 5 7')\n",
    "print(m)"
   ]
  },
  {
   "cell_type": "markdown",
   "id": "8d55b218-6c44-46f0-b39e-8157ee4be91a",
   "metadata": {},
   "source": [
    "6. Размерность массива."
   ]
  },
  {
   "cell_type": "code",
   "execution_count": 845,
   "id": "f6d160f9-6298-41f5-8179-413d820db191",
   "metadata": {},
   "outputs": [
    {
     "name": "stdout",
     "output_type": "stream",
     "text": [
      "(3, 4)\n"
     ]
    }
   ],
   "source": [
    "print(m.shape)"
   ]
  },
  {
   "cell_type": "markdown",
   "id": "726ec28c-75bd-4dff-ac8a-0903a0cd4674",
   "metadata": {},
   "source": [
    "7. Вызов функции расчета статистик."
   ]
  },
  {
   "cell_type": "code",
   "execution_count": 848,
   "id": "2fd73b55-d51a-4c8d-88b5-cd0d8fe0512a",
   "metadata": {},
   "outputs": [
    {
     "name": "stdout",
     "output_type": "stream",
     "text": [
      "9\n"
     ]
    }
   ],
   "source": [
    "print(np.max(m))"
   ]
  },
  {
   "cell_type": "markdown",
   "id": "5fc553b5-1dcc-4827-a43b-9301f371dc33",
   "metadata": {},
   "source": [
    "8. Расчет статистик по строкам или столбцам массива."
   ]
  },
  {
   "cell_type": "code",
   "execution_count": 851,
   "id": "db08f989-7cde-4195-aba3-b4cba0d05ab4",
   "metadata": {},
   "outputs": [
    {
     "name": "stdout",
     "output_type": "stream",
     "text": [
      "9\n"
     ]
    }
   ],
   "source": [
    "print(m.max())"
   ]
  },
  {
   "cell_type": "markdown",
   "id": "6940c5cd-4471-4879-a92b-fe219e5219f1",
   "metadata": {},
   "source": [
    "9. Поиск максимального элемента в каждой строке."
   ]
  },
  {
   "cell_type": "code",
   "execution_count": 854,
   "id": "534fd7a9-35e9-4ac9-977e-14470e16b242",
   "metadata": {},
   "outputs": [
    {
     "name": "stdout",
     "output_type": "stream",
     "text": [
      "[[4]\n",
      " [8]\n",
      " [9]]\n"
     ]
    }
   ],
   "source": [
    "print(m.max(axis=1))"
   ]
  },
  {
   "cell_type": "markdown",
   "id": "23e0c834-6da9-429e-80d1-1783bbea852e",
   "metadata": {},
   "source": [
    "10. Вычисление статистик по столбцам."
   ]
  },
  {
   "cell_type": "code",
   "execution_count": 857,
   "id": "70ef6060-2a5e-4270-b89f-9f9979911bcc",
   "metadata": {},
   "outputs": [
    {
     "name": "stdout",
     "output_type": "stream",
     "text": [
      "[[9 6 7 8]]\n"
     ]
    }
   ],
   "source": [
    "print(m.max(axis=0))"
   ]
  },
  {
   "cell_type": "markdown",
   "id": "67356178-7a60-4c48-bc1c-497a0130aea2",
   "metadata": {},
   "source": [
    "11. Функции (методы) для расчета статистик в Numpy."
   ]
  },
  {
   "cell_type": "code",
   "execution_count": 860,
   "id": "d2ed9703-e582-4da7-aa68-bae26feec570",
   "metadata": {},
   "outputs": [
    {
     "name": "stdout",
     "output_type": "stream",
     "text": [
      "(3, 4)\n",
      "9\n",
      "9\n"
     ]
    }
   ],
   "source": [
    "print(m.shape)\n",
    "print(m.max())\n",
    "print(np.max(m))"
   ]
  },
  {
   "cell_type": "markdown",
   "id": "f5142cbd-9a60-44f8-a819-53aed30a3f66",
   "metadata": {},
   "source": [
    "12. Использование boolean массива для доступа к ndarray."
   ]
  },
  {
   "cell_type": "markdown",
   "id": "d9c05ff3-ed9a-489e-8eb4-a7c2f59de1a0",
   "metadata": {},
   "source": [
    "12.1. Создание массивов."
   ]
  },
  {
   "cell_type": "code",
   "execution_count": 864,
   "id": "90f226cc-cd7d-4ec8-bc74-756598953689",
   "metadata": {},
   "outputs": [
    {
     "name": "stdout",
     "output_type": "stream",
     "text": [
      "[ 1  2  3  4  5  6  7  8  9 10]\n",
      "['a' 'b' 'c' 'd' 'a' 'e' 'b']\n"
     ]
    }
   ],
   "source": [
    "nums = np.array([1, 2, 3, 4, 5, 6, 7, 8, 9, 10])\n",
    "letters = np.array(['a', 'b', 'c', 'd', 'a', 'e', 'b'])\n",
    "print(nums)\n",
    "print(letters)"
   ]
  },
  {
   "cell_type": "code",
   "execution_count": 866,
   "id": "999cfbb0-fc69-4da0-81bd-070cfc653e1e",
   "metadata": {},
   "outputs": [
    {
     "data": {
      "text/plain": [
       "array([1, 2, 3])"
      ]
     },
     "execution_count": 866,
     "metadata": {},
     "output_type": "execute_result"
    }
   ],
   "source": [
    "a"
   ]
  },
  {
   "cell_type": "code",
   "execution_count": 868,
   "id": "2e83cc93-5a7a-47ed-9457-3a3b66703f03",
   "metadata": {},
   "outputs": [
    {
     "name": "stdout",
     "output_type": "stream",
     "text": [
      "False\n"
     ]
    }
   ],
   "source": [
    "b=5>7\n",
    "print(b)"
   ]
  },
  {
   "cell_type": "markdown",
   "id": "0004e1c3-a684-4f56-accc-c7d7e9957c33",
   "metadata": {},
   "source": [
    "12.2. Построим на базе массивов ndarray массивы с элементами типа boolean."
   ]
  },
  {
   "cell_type": "code",
   "execution_count": 871,
   "id": "7aa79cca-bc1f-4d02-8f95-e9ad3f3d8869",
   "metadata": {},
   "outputs": [
    {
     "name": "stdout",
     "output_type": "stream",
     "text": [
      "[ True  True  True  True False False False False False False]\n",
      "[ True False False False  True False False]\n"
     ]
    }
   ],
   "source": [
    "less_then_5 = nums < 5\n",
    "print(less_then_5)\n",
    "pos_a = letters == 'a'\n",
    "print(pos_a)"
   ]
  },
  {
   "cell_type": "markdown",
   "id": "6803e8f6-90c8-42df-83d8-4d26e1a25e7a",
   "metadata": {},
   "source": [
    "12.3. Построим массив, в котором значение True будут иметь элемнты, чей индекс совпадает с индексами, на которых стоит символ 'a' в массиве letters."
   ]
  },
  {
   "cell_type": "code",
   "execution_count": 874,
   "id": "1c1cd191-7114-446e-9a93-a08e34061aa0",
   "metadata": {},
   "outputs": [
    {
     "name": "stdout",
     "output_type": "stream",
     "text": [
      "[ True False False False  True False False]\n"
     ]
    }
   ],
   "source": [
    "pos_a = letters == 'a'\n",
    "print(pos_a)"
   ]
  },
  {
   "cell_type": "code",
   "execution_count": 876,
   "id": "a0ec2e61-e2d8-4b87-a032-a4543f369a96",
   "metadata": {},
   "outputs": [
    {
     "name": "stdout",
     "output_type": "stream",
     "text": [
      "[1 2 3 4]\n"
     ]
    }
   ],
   "source": [
    "print(nums[less_then_5])"
   ]
  },
  {
   "cell_type": "code",
   "execution_count": 878,
   "id": "6ca41234-02aa-4f50-9208-d8048b01485e",
   "metadata": {},
   "outputs": [
    {
     "name": "stdout",
     "output_type": "stream",
     "text": [
      "[[1 2 3 4]\n",
      " [5 6 7 8]\n",
      " [9 1 5 7]]\n"
     ]
    }
   ],
   "source": [
    " m = np.matrix('1 2 3 4; 5 6 7 8; 9 1 5 7')\n",
    " print(m)"
   ]
  },
  {
   "cell_type": "markdown",
   "id": "8027269f-5ea7-4dba-9fc2-caba8b7f1f5d",
   "metadata": {},
   "source": [
    "12.4. Построим логическую матрицу."
   ]
  },
  {
   "cell_type": "code",
   "execution_count": 881,
   "id": "29487972-acda-4b47-9a0a-e52b73c67f30",
   "metadata": {},
   "outputs": [
    {
     "name": "stdout",
     "output_type": "stream",
     "text": [
      "[[False False  True  True]\n",
      " [ True  True  True False]\n",
      " [False False  True  True]]\n",
      "[[3 4 5 6 7 5 7]]\n"
     ]
    }
   ],
   "source": [
    "mod_m = np.logical_and(m>=3, m<=7)\n",
    "print(mod_m)\n",
    "print(m[mod_m])"
   ]
  },
  {
   "cell_type": "markdown",
   "id": "b9976178-677a-4849-bd43-f32d1f4454d9",
   "metadata": {},
   "source": [
    "12.5. Индексация."
   ]
  },
  {
   "cell_type": "code",
   "execution_count": 884,
   "id": "297b0c4f-a13f-4a62-9052-77bcb0fa3b08",
   "metadata": {},
   "outputs": [
    {
     "name": "stdout",
     "output_type": "stream",
     "text": [
      "[1 2 3 4]\n"
     ]
    }
   ],
   "source": [
    "nums = np.array([1, 2, 3, 4, 5, 6, 7, 8, 9, 10])\n",
    "print(nums[nums < 5])"
   ]
  },
  {
   "cell_type": "code",
   "execution_count": 886,
   "id": "487082ed-ac81-4f96-b171-ed949ec12af0",
   "metadata": {},
   "outputs": [
    {
     "name": "stdout",
     "output_type": "stream",
     "text": [
      "[10 10 10 10  5  6  7  8  9 10]\n"
     ]
    }
   ],
   "source": [
    "nums[nums < 5] = 10\n",
    "print(nums)"
   ]
  },
  {
   "cell_type": "code",
   "execution_count": 888,
   "id": "21fc098b-ef45-4d7c-9ddd-109c0b7c8847",
   "metadata": {},
   "outputs": [
    {
     "name": "stdout",
     "output_type": "stream",
     "text": [
      "[[ 1  2  3  4]\n",
      " [ 5  6  7 25]\n",
      " [25  1  5  7]]\n"
     ]
    }
   ],
   "source": [
    "m[m > 7] = 25\n",
    "print(m)"
   ]
  },
  {
   "cell_type": "markdown",
   "id": "77eb1cec-01ae-4640-9c61-024ffd441428",
   "metadata": {},
   "source": [
    "13. Дополнительные функции."
   ]
  },
  {
   "cell_type": "markdown",
   "id": "af6b824d-84a4-4cd7-9061-10f30d2f89ac",
   "metadata": {},
   "source": [
    "13.1. Создание вектора из целых чисел от 0 до stop."
   ]
  },
  {
   "cell_type": "code",
   "execution_count": 892,
   "id": "a6efcf1c-b857-43b4-b2cc-f7f172832b2d",
   "metadata": {},
   "outputs": [
    {
     "name": "stdout",
     "output_type": "stream",
     "text": [
      "[0 1 2 3 4 5 6 7 8 9]\n"
     ]
    }
   ],
   "source": [
    "print(np.arange(10))"
   ]
  },
  {
   "cell_type": "markdown",
   "id": "fc390c0b-eb94-48a1-ae26-cd7f992ea9da",
   "metadata": {},
   "source": [
    "13.2. Задаем интервал."
   ]
  },
  {
   "cell_type": "code",
   "execution_count": 895,
   "id": "38958b46-0856-46f0-975c-8af4f51036c3",
   "metadata": {},
   "outputs": [
    {
     "name": "stdout",
     "output_type": "stream",
     "text": [
      "[ 5  6  7  8  9 10 11]\n"
     ]
    }
   ],
   "source": [
    "print(np.arange(5, 12))"
   ]
  },
  {
   "cell_type": "markdown",
   "id": "f56bd7c6-ceb9-4286-8fb6-25c829038fcd",
   "metadata": {},
   "source": [
    "13.2. Определение интервала чисел и шаг."
   ]
  },
  {
   "cell_type": "code",
   "execution_count": 898,
   "id": "2549e541-5a4e-4ea7-8dd7-385b9a57a607",
   "metadata": {},
   "outputs": [
    {
     "name": "stdout",
     "output_type": "stream",
     "text": [
      "[1.  1.5 2.  2.5 3.  3.5 4.  4.5]\n"
     ]
    }
   ],
   "source": [
    "print(np.arange(1, 5, 0.5))"
   ]
  },
  {
   "cell_type": "markdown",
   "id": "032b4c45-54fa-42b7-a8b4-5c1e7eeb151e",
   "metadata": {},
   "source": [
    "14. Задаем матрицу с помощью matrix."
   ]
  },
  {
   "cell_type": "code",
   "execution_count": 901,
   "id": "6f11ad20-4555-4a27-8cdd-2e1e4b23afdd",
   "metadata": {},
   "outputs": [
    {
     "name": "stdout",
     "output_type": "stream",
     "text": [
      "[[1 2]\n",
      " [3 4]]\n"
     ]
    }
   ],
   "source": [
    "a = [[1, 2], [3, 4]]\n",
    "print(np.matrix(a))"
   ]
  },
  {
   "cell_type": "markdown",
   "id": "86591a40-e039-4314-92b1-1023c0142398",
   "metadata": {},
   "source": [
    "14.1. Вариант с массивом Numpy."
   ]
  },
  {
   "cell_type": "code",
   "execution_count": 904,
   "id": "bbb12e10-cba3-4a3a-86a7-f98e222f331c",
   "metadata": {},
   "outputs": [
    {
     "name": "stdout",
     "output_type": "stream",
     "text": [
      "[[5 6]\n",
      " [7 8]]\n"
     ]
    }
   ],
   "source": [
    "b = np.array([[5, 6], [7, 8]])\n",
    "print(np.matrix(b))"
   ]
  },
  {
   "cell_type": "markdown",
   "id": "f7535953-d456-47f0-ae4f-01460afc53b5",
   "metadata": {},
   "source": [
    "14.2. Вариант в Matlab стиле."
   ]
  },
  {
   "cell_type": "code",
   "execution_count": 907,
   "id": "39654f67-91cb-403c-b5e2-997e2668d9ad",
   "metadata": {},
   "outputs": [
    {
     "name": "stdout",
     "output_type": "stream",
     "text": [
      "[[1 2]\n",
      " [3 4]]\n"
     ]
    }
   ],
   "source": [
    "print(np.matrix('[1, 2; 3, 4]'))"
   ]
  },
  {
   "cell_type": "markdown",
   "id": "15b34f75-9530-4d5d-b714-39980fa114c9",
   "metadata": {},
   "source": [
    "15. Создание нулевых и единичных матриц."
   ]
  },
  {
   "cell_type": "markdown",
   "id": "6fff942f-5dc8-4560-9dd9-536f39370534",
   "metadata": {},
   "source": [
    "15.1. Создание нулевой матрицы."
   ]
  },
  {
   "cell_type": "code",
   "execution_count": 911,
   "id": "b722ac64-dc55-42db-ba93-471228180cb3",
   "metadata": {},
   "outputs": [
    {
     "name": "stdout",
     "output_type": "stream",
     "text": [
      "[[0. 0. 0. 0.]\n",
      " [0. 0. 0. 0.]\n",
      " [0. 0. 0. 0.]]\n"
     ]
    }
   ],
   "source": [
    "print(np.zeros((3, 4)))"
   ]
  },
  {
   "cell_type": "markdown",
   "id": "f488693e-ea76-406c-9c3f-765584c91eb7",
   "metadata": {},
   "source": [
    "15.2. Создание единичной матрицы."
   ]
  },
  {
   "cell_type": "code",
   "execution_count": 914,
   "id": "4f065258-571a-46d5-a8fe-ce390c205d1c",
   "metadata": {},
   "outputs": [
    {
     "name": "stdout",
     "output_type": "stream",
     "text": [
      "[[1. 0. 0.]\n",
      " [0. 1. 0.]\n",
      " [0. 0. 1.]]\n"
     ]
    }
   ],
   "source": [
    "print(np.eye(3))"
   ]
  },
  {
   "cell_type": "markdown",
   "id": "36edf6ca-9d0d-441d-861b-0c0d5bf7402e",
   "metadata": {},
   "source": [
    "16. Преобразование матрицы в одномерный вектор."
   ]
  },
  {
   "cell_type": "code",
   "execution_count": 917,
   "id": "30e2d636-6f25-43af-829e-0a112e2ea4c9",
   "metadata": {},
   "outputs": [
    {
     "name": "stdout",
     "output_type": "stream",
     "text": [
      "[[1 2 3]\n",
      " [4 5 6]\n",
      " [7 8 9]]\n"
     ]
    }
   ],
   "source": [
    "A = np.array([[1, 2, 3], [4, 5, 6], [7, 8, 9]])\n",
    "print(A)"
   ]
  },
  {
   "cell_type": "markdown",
   "id": "e1c60e2d-9a55-4300-9ebe-f7f1b7cac1e8",
   "metadata": {},
   "source": [
    "16.1. Примение функцию ravel() - фукнция, которая отвечает за порядок построения одномерного массива."
   ]
  },
  {
   "cell_type": "code",
   "execution_count": 919,
   "id": "111175eb-f7da-4f01-bb40-a2377d55094f",
   "metadata": {},
   "outputs": [
    {
     "name": "stdout",
     "output_type": "stream",
     "text": [
      "[1 2 3 4 5 6 7 8 9]\n"
     ]
    }
   ],
   "source": [
    "print(np.ravel(A))"
   ]
  },
  {
   "cell_type": "markdown",
   "id": "93209c32-4dc7-4f09-baea-80b918442e6c",
   "metadata": {},
   "source": [
    "16.2. Если у order есть 'C', то массив будет собираться из строк исходной матрицы."
   ]
  },
  {
   "cell_type": "code",
   "execution_count": 923,
   "id": "43637a23-9ac9-4c1f-9aad-91f33fca0a78",
   "metadata": {},
   "outputs": [
    {
     "name": "stdout",
     "output_type": "stream",
     "text": [
      "[1 2 3 4 5 6 7 8 9]\n"
     ]
    }
   ],
   "source": [
    "print(np.ravel(A, order='C'))"
   ]
  },
  {
   "cell_type": "markdown",
   "id": "ea7bd687-5f2c-4ca9-9566-fa45aa707884",
   "metadata": {},
   "source": [
    "16.3. Если у order есть 'F', то в качестве элементов для сборки будут выступать столбы матрицы."
   ]
  },
  {
   "cell_type": "code",
   "execution_count": 926,
   "id": "ae9f05ee-deaa-4614-8b80-e7acd976955e",
   "metadata": {},
   "outputs": [
    {
     "name": "stdout",
     "output_type": "stream",
     "text": [
      "[1 4 7 2 5 8 3 6 9]\n"
     ]
    }
   ],
   "source": [
    "print(np.ravel(A, order='F'))"
   ]
  },
  {
   "cell_type": "markdown",
   "id": "8053532c-92c5-4ed5-aa8f-da4d9248716e",
   "metadata": {},
   "source": [
    "17. Возвращение один из двух заданных элементов в зависимости от условия."
   ]
  },
  {
   "cell_type": "code",
   "execution_count": 929,
   "id": "5f25acf2-f33b-4e5a-9330-3d5d97f8d52e",
   "metadata": {},
   "outputs": [
    {
     "name": "stdout",
     "output_type": "stream",
     "text": [
      "[ 0.   0.1 20.   0.3 40.   0.5 60.   0.7 80.   0.9]\n"
     ]
    }
   ],
   "source": [
    "a = np.array([0, 1, 2, 3, 4, 5, 6, 7, 8, 9])\n",
    "print(np.where(a % 2 == 0, a * 10, a / 10))"
   ]
  },
  {
   "cell_type": "code",
   "execution_count": 931,
   "id": "515e56b1-e32e-4861-848a-9f993a3f4556",
   "metadata": {},
   "outputs": [
    {
     "name": "stdout",
     "output_type": "stream",
     "text": [
      "[0.6617971  0.12592903 0.778536   0.29626414 0.3339799  0.60697325\n",
      " 0.60077089 0.66087203 0.54146544 0.62518055]\n",
      "[ True False  True False False  True  True  True  True  True]\n",
      "[ 1 -1  1 -1 -1  1  1  1  1  1]\n",
      "[0.   0.25 0.5  0.75 1.  ]\n",
      "[0.  0.5 1.  1.5 2. ]\n"
     ]
    }
   ],
   "source": [
    "a = np.random.rand(10)\n",
    "print(a)\n",
    "print(np.where(a > 0.5, True, False))\n",
    "print(np.where(a > 0.5, 1, -1))\n",
    "printx = np.linspace(0, 1, 5)\n",
    "print(x)\n",
    "y = np.linspace(0, 2, 5)\n",
    "print(y)\n"
   ]
  },
  {
   "cell_type": "markdown",
   "id": "4f5390e3-f48a-4ebf-b4b6-06d4bd548a74",
   "metadata": {},
   "source": [
    "18. Функция np.meshgrid()- позваляет получить матрицу координат из координатных векторов."
   ]
  },
  {
   "cell_type": "markdown",
   "id": "2bde44ce-b6f3-460a-aba5-aba3a78a8e05",
   "metadata": {},
   "source": [
    "18.1. Создадим два вектора."
   ]
  },
  {
   "cell_type": "code",
   "execution_count": 935,
   "id": "67e50381-4d6d-4a26-99f9-c70d29bd3093",
   "metadata": {},
   "outputs": [
    {
     "name": "stdout",
     "output_type": "stream",
     "text": [
      "[0.   0.25 0.5  0.75 1.  ]\n",
      "[0.  0.5 1.  1.5 2. ]\n"
     ]
    }
   ],
   "source": [
    "x = np.linspace(0, 1, 5)\n",
    "print(x)\n",
    "y = np.linspace(0, 2, 5)\n",
    "print(y)"
   ]
  },
  {
   "cell_type": "markdown",
   "id": "41f3fabd-93c7-4e26-be22-ad9b00174c44",
   "metadata": {},
   "source": [
    "18.2. Построим матрицу координат с помощью meshgrid."
   ]
  },
  {
   "cell_type": "code",
   "execution_count": 938,
   "id": "0fa15baf-86e4-4f87-9507-3f5b4a258014",
   "metadata": {},
   "outputs": [
    {
     "name": "stdout",
     "output_type": "stream",
     "text": [
      "[[0.   0.25 0.5  0.75 1.  ]\n",
      " [0.   0.25 0.5  0.75 1.  ]\n",
      " [0.   0.25 0.5  0.75 1.  ]\n",
      " [0.   0.25 0.5  0.75 1.  ]\n",
      " [0.   0.25 0.5  0.75 1.  ]]\n",
      "[[0.  0.  0.  0.  0. ]\n",
      " [0.5 0.5 0.5 0.5 0.5]\n",
      " [1.  1.  1.  1.  1. ]\n",
      " [1.5 1.5 1.5 1.5 1.5]\n",
      " [2.  2.  2.  2.  2. ]]\n"
     ]
    }
   ],
   "source": [
    "xg, yg = np.meshgrid(x,y)\n",
    "print(xg)\n",
    "print(yg)"
   ]
  },
  {
   "cell_type": "code",
   "execution_count": 956,
   "id": "9adb708d-c628-4912-9583-56b4c4444ea7",
   "metadata": {},
   "outputs": [
    {
     "data": {
      "image/png": "[encoded data removed]",
      "text/plain": [
       "<Figure size 640x480 with 1 Axes>"
      ]
     },
     "metadata": {},
     "output_type": "display_data"
    }
   ],
   "source": [
    "import matplotlib.pyplot as plt\n",
    "%matplotlib inline\n",
    "plt.plot(xg, yg, color=\"r\", marker=\"*\", linestyle=\"none\")\n",
    "plt.show()"
   ]
  },
  {
   "cell_type": "markdown",
   "id": "529e90e0-ca2b-481c-8a40-5098ac4098d3",
   "metadata": {},
   "source": [
    "19. Функция permutation() либо генерирует список заданной длины из натуральных чисел от нуля до указанного числа, либо перемешивает переданный ей в качестве аргемента массив."
   ]
  },
  {
   "cell_type": "code",
   "execution_count": 943,
   "id": "c3aeb068-9c19-4886-97fb-d5f801c64bc4",
   "metadata": {},
   "outputs": [
    {
     "name": "stdout",
     "output_type": "stream",
     "text": [
      "[0 5 6 1 4 2 3]\n",
      "['d' 'e' 'a' 'c' 'b']\n"
     ]
    }
   ],
   "source": [
    "print(np.random.permutation(7))\n",
    "a = ['a', 'b', 'c', 'd', 'e']\n",
    "print(np.random.permutation(a))"
   ]
  },
  {
   "cell_type": "markdown",
   "id": "21d59071-62d5-4001-b411-5381c59065c8",
   "metadata": {},
   "source": [
    "19.1. Вектор с данными."
   ]
  },
  {
   "cell_type": "code",
   "execution_count": 946,
   "id": "23fa1d8a-3e99-41e6-b40d-9fd8777a5c6b",
   "metadata": {},
   "outputs": [
    {
     "name": "stdout",
     "output_type": "stream",
     "text": [
      "[ 0.   2.5  5.   7.5 10. ]\n"
     ]
    }
   ],
   "source": [
    "arr=np.linspace(0, 10, 5)\n",
    "print(arr)"
   ]
  },
  {
   "cell_type": "markdown",
   "id": "e7e9cf74-a52e-4460-8485-8059bd51aec9",
   "metadata": {},
   "source": [
    "19.2. Перемешаем эту выборку."
   ]
  },
  {
   "cell_type": "code",
   "execution_count": 949,
   "id": "c82b7924-7acf-47e4-880b-fdb3f2d15db3",
   "metadata": {},
   "outputs": [
    {
     "name": "stdout",
     "output_type": "stream",
     "text": [
      "[ 7.5  2.5  0.   5.  10. ]\n"
     ]
    }
   ],
   "source": [
    "arr_mix = np.random.permutation(arr)\n",
    "print(arr_mix)"
   ]
  },
  {
   "cell_type": "markdown",
   "id": "d3cc3c75-f14b-4e2b-bd2c-dacb42b9a502",
   "metadata": {},
   "source": [
    "19.3. Построим массив индексов для вектора arr."
   ]
  },
  {
   "cell_type": "code",
   "execution_count": 423,
   "id": "63155656-1023-4d67-a84b-af391e7c130d",
   "metadata": {},
   "outputs": [
    {
     "name": "stdout",
     "output_type": "stream",
     "text": [
      "[0 3 1 4 2]\n",
      "[ 0.   7.5  2.5 10.   5. ]\n"
     ]
    }
   ],
   "source": [
    "index_mix = np.random.permutation(len(arr_mix))\n",
    "print(index_mix)\n",
    "print(arr[index_mix])"
   ]
  },
  {
   "cell_type": "markdown",
   "id": "18517753-1b97-43c9-8cb7-ec68492d901f",
   "metadata": {},
   "source": [
    "20. Матрицы"
   ]
  },
  {
   "cell_type": "markdown",
   "id": "da8683ad-96c4-411f-af7a-5556877ae44b",
   "metadata": {},
   "source": [
    "21. Вектор-строка."
   ]
  },
  {
   "cell_type": "code",
   "execution_count": 431,
   "id": "c9a59385-5b32-4b49-a61a-bd5c39e324e8",
   "metadata": {},
   "outputs": [
    {
     "name": "stdout",
     "output_type": "stream",
     "text": [
      "[1 2]\n"
     ]
    }
   ],
   "source": [
    "v_hor_np = np.array([1, 2])\n",
    "print(v_hor_np )"
   ]
  },
  {
   "cell_type": "markdown",
   "id": "e426c14b-c635-4ce0-b0ab-8dc717afc9e4",
   "metadata": {},
   "source": [
    "21.1. Создадим нулевую вектор-строку с размером 5."
   ]
  },
  {
   "cell_type": "code",
   "execution_count": 434,
   "id": "cb8bc9e1-e3c0-4bc3-b82f-e1831a154c21",
   "metadata": {},
   "outputs": [
    {
     "name": "stdout",
     "output_type": "stream",
     "text": [
      "[0. 0. 0. 0. 0.]\n"
     ]
    }
   ],
   "source": [
    "v_hor_zeros_v1=np.zeros((5,))\n",
    "print(v_hor_zeros_v1)"
   ]
  },
  {
   "cell_type": "markdown",
   "id": "2e28c505-0a4f-4b3a-b8b9-718cb5dfcba2",
   "metadata": {},
   "source": [
    "21.2. Построим единичную вектор-строку."
   ]
  },
  {
   "cell_type": "code",
   "execution_count": 436,
   "id": "aba36c0d-6437-4093-bf0f-11fdfa2b8a8a",
   "metadata": {},
   "outputs": [
    {
     "name": "stdout",
     "output_type": "stream",
     "text": [
      "[1. 1. 1. 1. 1.]\n",
      "[[1. 1. 1. 1. 1.]]\n"
     ]
    }
   ],
   "source": [
    "v_hor_one_v1 = np.ones((5,))\n",
    "print(v_hor_one_v1)\n",
    "v_hor_one_v2 = np.ones((1, 5))\n",
    "print(v_hor_one_v2)"
   ]
  },
  {
   "cell_type": "markdown",
   "id": "77178886-000c-42f3-9ff8-30c0d6f57c61",
   "metadata": {},
   "source": [
    "22. Вектор столбец."
   ]
  },
  {
   "cell_type": "code",
   "execution_count": 438,
   "id": "92d4007d-66bd-4d30-98ca-fbaeaa2c3834",
   "metadata": {},
   "outputs": [
    {
     "name": "stdout",
     "output_type": "stream",
     "text": [
      "[[1]\n",
      " [2]]\n"
     ]
    }
   ],
   "source": [
    "v_vert_np = np.array([[1], [2]])\n",
    "print(v_vert_np)"
   ]
  },
  {
   "cell_type": "markdown",
   "id": "813b4870-8191-42f9-a6fc-d6bfac51f738",
   "metadata": {},
   "source": [
    "22.1. Нулевой вектор столбец."
   ]
  },
  {
   "cell_type": "code",
   "execution_count": 442,
   "id": "644cdf74-bfc7-45ad-a930-f1e2a1ee4a24",
   "metadata": {},
   "outputs": [
    {
     "name": "stdout",
     "output_type": "stream",
     "text": [
      "[[0.]\n",
      " [0.]\n",
      " [0.]\n",
      " [0.]\n",
      " [0.]]\n"
     ]
    }
   ],
   "source": [
    "v_vert_zeros = np.zeros((5, 1))\n",
    "print(v_vert_zeros)"
   ]
  },
  {
   "cell_type": "markdown",
   "id": "7b1ec65e-ec6a-4696-8c36-a1c9386c0ebe",
   "metadata": {},
   "source": [
    "22.2. Единичный вектор столбец."
   ]
  },
  {
   "cell_type": "code",
   "execution_count": 444,
   "id": "02c02d91-9aa7-4365-a291-2f6fbe552cdd",
   "metadata": {},
   "outputs": [
    {
     "name": "stdout",
     "output_type": "stream",
     "text": [
      "[[1.]\n",
      " [1.]\n",
      " [1.]\n",
      " [1.]\n",
      " [1.]]\n"
     ]
    }
   ],
   "source": [
    "v_vert_ones = np.ones((5, 1))\n",
    "print(v_vert_ones)"
   ]
  },
  {
   "cell_type": "markdown",
   "id": "3d6a7c90-52b4-45eb-8af5-81c99d4e9635",
   "metadata": {},
   "source": [
    "23. Создание квадратной матрицы с помощью метода array()."
   ]
  },
  {
   "cell_type": "code",
   "execution_count": 446,
   "id": "9d912b33-5fcb-4898-a0ce-9f5c5fceb983",
   "metadata": {},
   "outputs": [
    {
     "name": "stdout",
     "output_type": "stream",
     "text": [
      "[[1 2 3]\n",
      " [4 5 6]\n",
      " [7 8 9]]\n"
     ]
    }
   ],
   "source": [
    "m_sqr_arr = np.array([[1, 2, 3], [4, 5, 6], [7, 8, 9]])\n",
    "print(m_sqr_arr)"
   ]
  },
  {
   "cell_type": "markdown",
   "id": "fa06af49-4ab9-414e-b79f-d8fb8eee6e7e",
   "metadata": {},
   "source": [
    "24. Создание списка."
   ]
  },
  {
   "cell_type": "code",
   "execution_count": 448,
   "id": "898c9d82-019a-4909-ac05-d0db86124527",
   "metadata": {},
   "outputs": [
    {
     "name": "stdout",
     "output_type": "stream",
     "text": [
      "[[1 2 3]\n",
      " [4 5 6]\n",
      " [7 8 9]]\n"
     ]
    }
   ],
   "source": [
    "m_sqr = [[1, 2, 3], [4, 5, 6], [7, 8, 9]]\n",
    "m_sqr_arr = np.array(m_sqr)\n",
    "print(m_sqr_arr)"
   ]
  },
  {
   "cell_type": "markdown",
   "id": "26809ad4-0667-47ee-8a78-baa9160ab7e4",
   "metadata": {},
   "source": [
    "25. Построение обекта типа matrix  с помощью одноименного метода."
   ]
  },
  {
   "cell_type": "code",
   "execution_count": 450,
   "id": "61457948-fe71-43b3-9dd3-4f24dc033861",
   "metadata": {},
   "outputs": [
    {
     "name": "stdout",
     "output_type": "stream",
     "text": [
      "[[1 2 3]\n",
      " [4 5 6]\n",
      " [7 8 9]]\n"
     ]
    }
   ],
   "source": [
    "m_sqr_mx = np.matrix([[1, 2, 3], [4, 5, 6], [7, 8, 9]])\n",
    "print(m_sqr_mx)"
   ]
  },
  {
   "cell_type": "code",
   "execution_count": 451,
   "id": "520eb72a-8bcb-4fa1-92bb-a5172f86cab3",
   "metadata": {},
   "outputs": [
    {
     "name": "stdout",
     "output_type": "stream",
     "text": [
      "[[1 2 3]\n",
      " [4 5 6]\n",
      " [7 8 9]]\n"
     ]
    }
   ],
   "source": [
    "m_sqr_mx = np.matrix('1 2 3; 4 5 6; 7 8 9')\n",
    "print(m_sqr_mx)"
   ]
  },
  {
   "cell_type": "markdown",
   "id": "bfbe79f1-09c1-4b25-9588-0b6f9c68d09f",
   "metadata": {},
   "source": [
    "26. Диагональная матрица."
   ]
  },
  {
   "cell_type": "code",
   "execution_count": 453,
   "id": "16c08fe5-514d-4189-8a80-3a6f9956caaf",
   "metadata": {},
   "outputs": [
    {
     "name": "stdout",
     "output_type": "stream",
     "text": [
      "[[1 0 0]\n",
      " [0 5 0]\n",
      " [0 0 9]]\n"
     ]
    }
   ],
   "source": [
    "m_diag = [[1, 0, 0], [0, 5, 0], [0, 0, 9]]\n",
    "m_diag_np = np.matrix(m_diag)\n",
    "print(m_diag_np)"
   ]
  },
  {
   "cell_type": "markdown",
   "id": "bb91d503-14b2-4050-bdbe-289ed62cd3af",
   "metadata": {},
   "source": [
    "27. Создадим матрицу размера 3 3."
   ]
  },
  {
   "cell_type": "code",
   "execution_count": 455,
   "id": "0bde90d0-7e8c-4e10-b127-635e84bd3ccc",
   "metadata": {},
   "outputs": [
    {
     "name": "stdout",
     "output_type": "stream",
     "text": [
      "[[1 2 3]\n",
      " [4 5 6]\n",
      " [7 8 9]]\n"
     ]
    }
   ],
   "source": [
    "m_sqr_mx = np.matrix('1 2 3; 4 5 6; 7 8 9')\n",
    "print(m_sqr_mx)"
   ]
  },
  {
   "cell_type": "markdown",
   "id": "046d0f65-262b-44c7-abeb-d9ec387ff256",
   "metadata": {},
   "source": [
    "27.1. Извлечем ее главную диагональ."
   ]
  },
  {
   "cell_type": "code",
   "execution_count": 457,
   "id": "04472118-445e-4d69-8331-109b3da7f148",
   "metadata": {},
   "outputs": [
    {
     "name": "stdout",
     "output_type": "stream",
     "text": [
      "[1 5 9]\n"
     ]
    }
   ],
   "source": [
    "diag = np.diag(m_sqr_mx)\n",
    "print(diag)"
   ]
  },
  {
   "cell_type": "markdown",
   "id": "53638219-9e9f-454b-9ce4-4d05886f3454",
   "metadata": {},
   "source": [
    "27.1. Построим диагональную матрицу на базе полученной диагонали."
   ]
  },
  {
   "cell_type": "code",
   "execution_count": 459,
   "id": "8f8045c6-8d07-4b64-a23b-9322819afdb7",
   "metadata": {},
   "outputs": [
    {
     "name": "stdout",
     "output_type": "stream",
     "text": [
      "[[1 0 0]\n",
      " [0 5 0]\n",
      " [0 0 9]]\n"
     ]
    }
   ],
   "source": [
    "m_diag_np = np.diag(np.diag(m_sqr_mx))\n",
    "print(m_diag_np)"
   ]
  },
  {
   "cell_type": "markdown",
   "id": "8f15348f-c61d-4ad9-be21-89a83daa4198",
   "metadata": {},
   "source": [
    "28. Единичная матрица."
   ]
  },
  {
   "cell_type": "markdown",
   "id": "74a006c1-f977-46c9-b05e-835d35095510",
   "metadata": {},
   "source": [
    "28.1. Создание единичной мтарицы на базе списка."
   ]
  },
  {
   "cell_type": "code",
   "execution_count": 462,
   "id": "a7634399-adeb-4e1d-9546-89a168a45af3",
   "metadata": {},
   "outputs": [
    {
     "name": "stdout",
     "output_type": "stream",
     "text": [
      "[[1 0 0]\n",
      " [0 1 0]\n",
      " [0 0 1]]\n"
     ]
    }
   ],
   "source": [
    "m_e = [[1, 0, 0], [0, 1, 0], [0, 0, 1]]\n",
    "m_e_np = np.matrix(m_e)\n",
    "print(m_e_np)"
   ]
  },
  {
   "cell_type": "markdown",
   "id": "80358231-d888-4d28-b0ab-16651e5adc21",
   "metadata": {},
   "source": [
    "28.2. Использование функции eye() для построения единичной матрицы."
   ]
  },
  {
   "cell_type": "code",
   "execution_count": 467,
   "id": "0038f86a-9a09-490d-ad7b-e4901473f1ac",
   "metadata": {},
   "outputs": [
    {
     "name": "stdout",
     "output_type": "stream",
     "text": [
      "[[1. 0. 0.]\n",
      " [0. 1. 0.]\n",
      " [0. 0. 1.]]\n"
     ]
    }
   ],
   "source": [
    "m_eye = np.eye(3)\n",
    "print(m_eye)"
   ]
  },
  {
   "cell_type": "markdown",
   "id": "796b93a1-1b44-418d-b7d8-9c5fc7f9cddb",
   "metadata": {},
   "source": [
    "28.3. Использование функции identity() для построения единичной матрицы."
   ]
  },
  {
   "cell_type": "code",
   "execution_count": 470,
   "id": "8a7b858a-fe4c-435a-af3a-690199b0185d",
   "metadata": {},
   "outputs": [
    {
     "name": "stdout",
     "output_type": "stream",
     "text": [
      "[[1. 0. 0.]\n",
      " [0. 1. 0.]\n",
      " [0. 0. 1.]]\n"
     ]
    }
   ],
   "source": [
    "m_idnt = np.identity(3)\n",
    "print(m_idnt)"
   ]
  },
  {
   "cell_type": "markdown",
   "id": "6f67741c-8faf-46e7-98bc-169e219f0328",
   "metadata": {},
   "source": [
    "29. Нулевая матрица."
   ]
  },
  {
   "cell_type": "markdown",
   "id": "7042354b-41b4-4a1a-aca6-cc13b2715183",
   "metadata": {},
   "source": [
    "29.1. Использование функции zeros() для построения нулевой матрицы."
   ]
  },
  {
   "cell_type": "code",
   "execution_count": 475,
   "id": "845c6390-0b5a-4e39-a817-4510b15207d8",
   "metadata": {},
   "outputs": [
    {
     "name": "stdout",
     "output_type": "stream",
     "text": [
      "[[0. 0. 0.]\n",
      " [0. 0. 0.]\n",
      " [0. 0. 0.]]\n"
     ]
    }
   ],
   "source": [
    "m_zeros = np.zeros((3, 3))\n",
    "print(m_zeros)"
   ]
  },
  {
   "cell_type": "markdown",
   "id": "1a65f17a-b19f-489c-b358-d81005a08ae0",
   "metadata": {},
   "source": [
    "30. Задание матриц в общем виде."
   ]
  },
  {
   "cell_type": "code",
   "execution_count": 477,
   "id": "5cd03e97-28c4-4bab-a4d0-dbdc6ea15b92",
   "metadata": {},
   "outputs": [
    {
     "name": "stdout",
     "output_type": "stream",
     "text": [
      "[[1 2 3]\n",
      " [4 5 6]]\n"
     ]
    }
   ],
   "source": [
    "m_mx = np.matrix('1 2 3; 4 5 6')\n",
    "print(m_mx)"
   ]
  },
  {
   "cell_type": "markdown",
   "id": "5286537b-b59c-48b9-9bb6-95f2860e8454",
   "metadata": {},
   "source": [
    "30.1. Создание матрицы заданного размера, заполненную нулями с помощью функции zeros()."
   ]
  },
  {
   "cell_type": "code",
   "execution_count": 479,
   "id": "e1ec12c4-792d-4392-b514-18960efd152b",
   "metadata": {},
   "outputs": [
    {
     "name": "stdout",
     "output_type": "stream",
     "text": [
      "[[0. 0. 0. 0. 0.]\n",
      " [0. 0. 0. 0. 0.]]\n"
     ]
    }
   ],
   "source": [
    "m_var = np.zeros((2, 5))\n",
    "print(m_var)"
   ]
  },
  {
   "cell_type": "markdown",
   "id": "58764f06-8c92-425b-bb1c-00750d9f308f",
   "metadata": {},
   "source": [
    "31. Решим задачу транспонирования матрицы."
   ]
  },
  {
   "cell_type": "markdown",
   "id": "76780d7f-d10d-402f-94d5-9971f7dcce88",
   "metadata": {},
   "source": [
    "31.1. Создадим матрицу А:"
   ]
  },
  {
   "cell_type": "code",
   "execution_count": 482,
   "id": "06a6bd55-c99d-4494-ada0-72d978e47d36",
   "metadata": {},
   "outputs": [
    {
     "name": "stdout",
     "output_type": "stream",
     "text": [
      "[[1 2 3]\n",
      " [4 5 6]]\n"
     ]
    }
   ],
   "source": [
    "A = np.matrix('1 2 3; 4 5 6')\n",
    "print(A)"
   ]
  },
  {
   "cell_type": "markdown",
   "id": "33a11675-6009-41ac-9529-36009310cd0c",
   "metadata": {},
   "source": [
    "31.2. Транспонируем матрицу с помощью метода transpose():"
   ]
  },
  {
   "cell_type": "code",
   "execution_count": 484,
   "id": "85bf18e8-895a-4f2e-9de5-ef9afe30479a",
   "metadata": {},
   "outputs": [
    {
     "name": "stdout",
     "output_type": "stream",
     "text": [
      "[[1 4]\n",
      " [2 5]\n",
      " [3 6]]\n"
     ]
    }
   ],
   "source": [
    "A_t = A.transpose()\n",
    "print(A_t)"
   ]
  },
  {
   "cell_type": "markdown",
   "id": "0390d7c3-5be8-4b5f-b6b5-8aef63ed00b3",
   "metadata": {},
   "source": [
    "32. Рассмотрим на примерах свойства транспорнированных матриц."
   ]
  },
  {
   "cell_type": "markdown",
   "id": "a8af4618-5541-4082-a1b6-3aab40370601",
   "metadata": {},
   "source": [
    "32.1. Свойство 1: Дважды транспонированная матрица равна исходной матрице."
   ]
  },
  {
   "cell_type": "code",
   "execution_count": 490,
   "id": "d15697d3-5287-404b-bb17-88fba39a3d3b",
   "metadata": {},
   "outputs": [
    {
     "name": "stdout",
     "output_type": "stream",
     "text": [
      "[[1 2 3]\n",
      " [4 5 6]]\n",
      "[[1 2 3]\n",
      " [4 5 6]]\n"
     ]
    }
   ],
   "source": [
    "A = np.matrix('1 2 3; 4 5 6')\n",
    "print(A)\n",
    "R = (A.T).T\n",
    "print(R)"
   ]
  },
  {
   "cell_type": "markdown",
   "id": "0e894a26-969b-4ebd-9bab-f7ea2550f4a9",
   "metadata": {},
   "source": [
    "32.2. Свойство 2: Транспонирование суммы матриц равно сумме транспонированнх матриц:"
   ]
  },
  {
   "cell_type": "code",
   "execution_count": 492,
   "id": "d2b0d879-04d2-4d52-bd85-5f6b73bbb775",
   "metadata": {},
   "outputs": [
    {
     "name": "stdout",
     "output_type": "stream",
     "text": [
      "[[ 8  4]\n",
      " [10 12]\n",
      " [12 11]]\n"
     ]
    }
   ],
   "source": [
    "A = np.matrix('1 2 3; 4 5 6')\n",
    "B = np.matrix('7 8 9; 0 7 5')\n",
    "L = (A + B).T\n",
    "R = A.T + B.T\n",
    "print(R)"
   ]
  },
  {
   "cell_type": "markdown",
   "id": "989cb1ba-0bb4-4dbc-bed0-2156029b2681",
   "metadata": {},
   "source": [
    "32.3. Свойство 3: Транспонирование произведения матриц равно произведению транспонированных матриц расставленных в обратном порядке:"
   ]
  },
  {
   "cell_type": "code",
   "execution_count": 494,
   "id": "8bed88cd-681c-4632-b2f6-08401b0a497f",
   "metadata": {},
   "outputs": [
    {
     "name": "stdout",
     "output_type": "stream",
     "text": [
      "[[19 43]\n",
      " [22 50]]\n",
      "[[19 43]\n",
      " [22 50]]\n"
     ]
    }
   ],
   "source": [
    "A = np.matrix('1 2; 3 4')\n",
    "B = np.matrix('5 6; 7 8')\n",
    "L = (A.dot(B)).T\n",
    "R = (B.T).dot(A.T)\n",
    "print(L)\n",
    "print(R)"
   ]
  },
  {
   "cell_type": "markdown",
   "id": "d7018bb4-5d9b-4367-b740-6a5b3efa669e",
   "metadata": {},
   "source": [
    "32.4. Свойство 4: Транспонирование произведения матрицы на число равно произведению этого числа на транспонированную матрицу:"
   ]
  },
  {
   "cell_type": "code",
   "execution_count": 496,
   "id": "931cd838-d14e-432d-845f-d9aa67322f17",
   "metadata": {},
   "outputs": [
    {
     "name": "stdout",
     "output_type": "stream",
     "text": [
      "[[ 3 12]\n",
      " [ 6 15]\n",
      " [ 9 18]]\n",
      "[[ 3 12]\n",
      " [ 6 15]\n",
      " [ 9 18]]\n"
     ]
    }
   ],
   "source": [
    "A = np.matrix('1 2 3; 4 5 6')\n",
    "k = 3\n",
    "L = (k * A).T\n",
    "R = k * (A.T)\n",
    "print(L)\n",
    "print(R)"
   ]
  },
  {
   "cell_type": "markdown",
   "id": "3f387453-20dd-49f7-9a45-bd4e73f4a5a9",
   "metadata": {},
   "source": [
    "32.5. Свойство 5: Определители исходной и транспонированный матрицы совпадают:"
   ]
  },
  {
   "cell_type": "code",
   "execution_count": 498,
   "id": "31f1c3d1-d7ea-437c-a6e3-845e296d9a5d",
   "metadata": {},
   "outputs": [
    {
     "name": "stdout",
     "output_type": "stream",
     "text": [
      "-2.000000000\n",
      "-2.000000000\n"
     ]
    }
   ],
   "source": [
    "A = np.matrix('1 2; 3 4')\n",
    "A_det = np.linalg.det(A)\n",
    "A_T_det = np.linalg.det(A.T)\n",
    "print(f\"{A_det:.9f}\")\n",
    "print(f\"{A_T_det:.9f}\")"
   ]
  },
  {
   "cell_type": "markdown",
   "id": "d53080ef-c503-4589-9717-97eb28de9bc8",
   "metadata": {},
   "source": [
    "33. Действия над матрицами."
   ]
  },
  {
   "cell_type": "markdown",
   "id": "1fece348-7088-49e1-8e72-1fbd9e10860c",
   "metadata": {},
   "source": [
    "33.1. Умножение матрицы на число. "
   ]
  },
  {
   "cell_type": "code",
   "execution_count": 501,
   "id": "b7d1f093-6de9-4d50-be05-7b55daded6b7",
   "metadata": {},
   "outputs": [
    {
     "name": "stdout",
     "output_type": "stream",
     "text": [
      "[[ 3  6  9]\n",
      " [12 15 18]]\n"
     ]
    }
   ],
   "source": [
    "A = np.matrix('1 2 3; 4 5 6')\n",
    "C = 3 * A\n",
    "print(C)"
   ]
  },
  {
   "cell_type": "markdown",
   "id": "e3485abf-d1bd-4346-a9af-871894c9c19f",
   "metadata": {},
   "source": [
    "Рассмотрим свойства операции умножения матрицы на число:"
   ]
  },
  {
   "cell_type": "markdown",
   "id": "ba4ad191-03be-4908-9a6a-71ab7da048c2",
   "metadata": {},
   "source": [
    "33.1.1 Свойство 1: Произведение единицы и любой заданной матрицы равно заданной матрице:"
   ]
  },
  {
   "cell_type": "code",
   "execution_count": 504,
   "id": "07de5616-c65f-4109-b295-a78660083152",
   "metadata": {},
   "outputs": [
    {
     "name": "stdout",
     "output_type": "stream",
     "text": [
      "[[1 2]\n",
      " [3 4]]\n",
      "[[1 2]\n",
      " [3 4]]\n"
     ]
    }
   ],
   "source": [
    "A = np.matrix('1 2; 3 4')\n",
    "L = 1 * A\n",
    "R = A\n",
    "print(L)\n",
    "print(R)"
   ]
  },
  {
   "cell_type": "markdown",
   "id": "ffac3a74-8f5a-4195-a952-c4020dc9639c",
   "metadata": {},
   "source": [
    "33.1.2. Свойство 2: Произведение нуля и любой матрицы равно нулевой матрице, размерность которой равна исходной матрицы:"
   ]
  },
  {
   "cell_type": "code",
   "execution_count": 506,
   "id": "07e5bb28-a43f-4dce-9971-84db460a213e",
   "metadata": {},
   "outputs": [
    {
     "name": "stdout",
     "output_type": "stream",
     "text": [
      "[[0 0]\n",
      " [0 0]]\n",
      "[[0 0]\n",
      " [0 0]]\n"
     ]
    }
   ],
   "source": [
    "A = np.matrix('1 2; 3 4')\n",
    "Z = np.matrix('0 0; 0 0')\n",
    "L = 0 * A\n",
    "R = Z\n",
    "print(L)\n",
    "print(R)"
   ]
  },
  {
   "cell_type": "markdown",
   "id": "cbd372cd-063e-4f2d-8eef-16da8b2c166c",
   "metadata": {},
   "source": [
    "33.1.3. Свойство 3: Произведение матрицы на сумму чисел равно сумме произведений матрицы на каждое из этих чисел:"
   ]
  },
  {
   "cell_type": "code",
   "execution_count": 508,
   "id": "a99a2c15-2ad9-4863-9959-6a3990684a56",
   "metadata": {},
   "outputs": [
    {
     "name": "stdout",
     "output_type": "stream",
     "text": [
      "[[ 5 10]\n",
      " [15 20]]\n",
      "[[ 5 10]\n",
      " [15 20]]\n"
     ]
    }
   ],
   "source": [
    "A = np.matrix('1 2; 3 4')\n",
    "p = 2\n",
    "q = 3\n",
    "L = (p + q) * A\n",
    "R = p * A + q * A\n",
    "print(L)\n",
    "print(R)"
   ]
  },
  {
   "cell_type": "markdown",
   "id": "c2c28847-01ba-4385-8cdd-bef26e429940",
   "metadata": {},
   "source": [
    "33.1.4. Свойство 4:  Произведение матрицы на произведение двух чисел равно произведению второго числа и заданной матрицы, умноженному на первое \n",
    "число:"
   ]
  },
  {
   "cell_type": "code",
   "execution_count": 510,
   "id": "4e0ca888-e9fc-4009-aeae-99bf88d378ad",
   "metadata": {},
   "outputs": [
    {
     "name": "stdout",
     "output_type": "stream",
     "text": [
      "[[ 6 12]\n",
      " [18 24]]\n",
      "[[ 6 12]\n",
      " [18 24]]\n"
     ]
    }
   ],
   "source": [
    "A = np.matrix('1 2; 3 4')\n",
    "p = 2\n",
    "q = 3\n",
    "L = (p * q) * A\n",
    "R = p * (q * A)\n",
    "print(L)\n",
    "print(R)"
   ]
  },
  {
   "cell_type": "markdown",
   "id": "9971485c-9243-45cf-a082-287fffada3ab",
   "metadata": {},
   "source": [
    "33.1.5. Свойство 5: Произведение суммы матриц на число равно сумме произвеений этих матриц на заданной число:"
   ]
  },
  {
   "cell_type": "code",
   "execution_count": 512,
   "id": "0ad1a404-eb66-4c0b-9ed0-da3057fbdb4f",
   "metadata": {},
   "outputs": [
    {
     "name": "stdout",
     "output_type": "stream",
     "text": [
      "[[18 24]\n",
      " [30 36]]\n",
      "[[18 24]\n",
      " [30 36]]\n"
     ]
    }
   ],
   "source": [
    "A = np.matrix('1 2; 3 4')\n",
    "B = np.matrix('5 6; 7 8')\n",
    "k = 3\n",
    "L = k * (A + B)\n",
    "R = k * A + k * B\n",
    "print(L)\n",
    "print(R)"
   ]
  },
  {
   "cell_type": "markdown",
   "id": "3ed31f9d-ca60-4ee6-b180-870aa7f668d6",
   "metadata": {},
   "source": [
    "33.2. Сложение матриц."
   ]
  },
  {
   "cell_type": "code",
   "execution_count": 514,
   "id": "1fd71662-6d21-4567-9667-5a1f05e84fc1",
   "metadata": {},
   "outputs": [
    {
     "name": "stdout",
     "output_type": "stream",
     "text": [
      "[[ 9  7  8]\n",
      " [14 11 19]]\n"
     ]
    }
   ],
   "source": [
    "A = np.matrix('1 6 3; 8 2 7')\n",
    "B = np.matrix('8 1 5; 6 9 12')\n",
    "C = A + B\n",
    "print(C)"
   ]
  },
  {
   "cell_type": "markdown",
   "id": "c114c70a-637d-445a-ae5f-a6fa5fd4e215",
   "metadata": {},
   "source": [
    "Рассмотрим свойства сложения матриц."
   ]
  },
  {
   "cell_type": "markdown",
   "id": "2afc3bc9-b9e7-4900-ade0-c0098a948128",
   "metadata": {},
   "source": [
    "33.2.1. Свойство 1: Коммутативность сложения. От перестановки матриц их сумма не изменяется:"
   ]
  },
  {
   "cell_type": "code",
   "execution_count": 517,
   "id": "7a9c580a-cfd2-4a5d-833f-c87cfe64e2df",
   "metadata": {},
   "outputs": [
    {
     "name": "stdout",
     "output_type": "stream",
     "text": [
      "[[ 6  8]\n",
      " [10 12]]\n",
      "[[ 6  8]\n",
      " [10 12]]\n"
     ]
    }
   ],
   "source": [
    "A = np.matrix('1 2; 3 4')\n",
    "B = np.matrix('5 6; 7 8')\n",
    "L = A + B\n",
    "R = B + A\n",
    "print(L)\n",
    "print(R)"
   ]
  },
  {
   "cell_type": "markdown",
   "id": "a4abb6c4-9e69-4500-b8b1-4269a28ef628",
   "metadata": {},
   "source": [
    "33.2.2. Свойство 2: Ассоциативность сложения. Результат сложения трех и более матриц не зависит от порядка, в котором эта операция будет выполняться:"
   ]
  },
  {
   "cell_type": "code",
   "execution_count": 519,
   "id": "800e1dcc-215c-48ff-8181-66703b88d957",
   "metadata": {},
   "outputs": [
    {
     "name": "stdout",
     "output_type": "stream",
     "text": [
      "[[ 7 15]\n",
      " [19 15]]\n",
      "[[ 7 15]\n",
      " [19 15]]\n"
     ]
    }
   ],
   "source": [
    "A = np.matrix('1 2; 3 4')\n",
    "B = np.matrix('5 6; 7 8')\n",
    "C = np.matrix('1 7; 9 3')\n",
    "L = A + (B + C)\n",
    "R = (A + B) + C\n",
    "print(L)\n",
    "print(R)"
   ]
  },
  {
   "cell_type": "markdown",
   "id": "9c2966be-42bf-49df-a22e-1e8c574be7ad",
   "metadata": {},
   "source": [
    "33.2.3. Свойство 3: Для любой матрицы существует противоположная ей, такая, что их сумма является нулевой матрицей:"
   ]
  },
  {
   "cell_type": "code",
   "execution_count": 521,
   "id": "8c5d3327-d036-425f-ad91-cf2898162c37",
   "metadata": {},
   "outputs": [
    {
     "name": "stdout",
     "output_type": "stream",
     "text": [
      "[[0 0]\n",
      " [0 0]]\n",
      "[[0 0]\n",
      " [0 0]]\n"
     ]
    }
   ],
   "source": [
    "A = np.matrix('1 2; 3 4')\n",
    "Z = np.matrix('0 0; 0 0')\n",
    "L = A + (-1)*A\n",
    "print(L)\n",
    "print(Z)"
   ]
  },
  {
   "cell_type": "markdown",
   "id": "c35aa70d-4f87-4cd9-a1e7-474095838499",
   "metadata": {},
   "source": [
    "33.3. Умножение матриц."
   ]
  },
  {
   "cell_type": "code",
   "execution_count": 523,
   "id": "17e7c32e-f721-4b9d-905c-dc5e58616c18",
   "metadata": {},
   "outputs": [
    {
     "name": "stdout",
     "output_type": "stream",
     "text": [
      "[[31 19]\n",
      " [85 55]]\n"
     ]
    }
   ],
   "source": [
    "A = np.matrix('1 2 3; 4 5 6')\n",
    "B = np.matrix('7 8; 9 1; 2 3')\n",
    "C = A.dot(B)\n",
    "print(C)"
   ]
  },
  {
   "cell_type": "markdown",
   "id": "f929cece-92d0-4f2b-9ec1-77fa88d8db6a",
   "metadata": {},
   "source": [
    "Рассмотрим свойства произведения матриц."
   ]
  },
  {
   "cell_type": "markdown",
   "id": "9e9a92d4-9172-4fde-90d9-8e63d5daec64",
   "metadata": {},
   "source": [
    "33.3.1. Свойство 1: Ассоциативность умножения. Результат умножения матриц не зависит от порядка, в котором будет выполняться эта операция:"
   ]
  },
  {
   "cell_type": "code",
   "execution_count": 526,
   "id": "ecddf004-435c-4076-bd2a-ac732d99036b",
   "metadata": {},
   "outputs": [
    {
     "name": "stdout",
     "output_type": "stream",
     "text": [
      "[[192 252]\n",
      " [436 572]]\n",
      "[[192 252]\n",
      " [436 572]]\n"
     ]
    }
   ],
   "source": [
    "A = np.matrix('1 2; 3 4')\n",
    "B = np.matrix('5 6; 7 8')\n",
    "C = np.matrix('2 4; 7 8')\n",
    "L = A.dot(B.dot(C))\n",
    "R = (A.dot(B)).dot(C)\n",
    "print(L)\n",
    "print(R)"
   ]
  },
  {
   "cell_type": "markdown",
   "id": "c4b6cf9b-7faa-44b2-b323-d0c7c82e4656",
   "metadata": {},
   "source": [
    "33.3.2. Свойство 2: Дистрибутивность умножения. Произведение матрицы на сумму матриц равно сумме произведений матриц:"
   ]
  },
  {
   "cell_type": "code",
   "execution_count": 528,
   "id": "3bd567ef-02a9-416a-bab5-5735410356ae",
   "metadata": {},
   "outputs": [
    {
     "name": "stdout",
     "output_type": "stream",
     "text": [
      "[[35 42]\n",
      " [77 94]]\n",
      "[[35 42]\n",
      " [77 94]]\n"
     ]
    }
   ],
   "source": [
    "A = np.matrix('1 2; 3 4')\n",
    "B = np.matrix('5 6; 7 8')\n",
    "C = np.matrix('2 4; 7 8')\n",
    "L = A.dot(B + C)\n",
    "R = A.dot(B) + A.dot(C)\n",
    "print(L)\n",
    "print(R)"
   ]
  },
  {
   "cell_type": "markdown",
   "id": "04bb505e-ecb6-4def-aac2-d5948c722427",
   "metadata": {},
   "source": [
    "33.3.3. Свойство 3: Умножение матриц в общем виде не коммутативно. Это означает, что для матриц не выполняется правило независимости произведения от перестановки множителей:"
   ]
  },
  {
   "cell_type": "code",
   "execution_count": 530,
   "id": "15c6fc7d-8822-499b-8b0b-f550da67b75a",
   "metadata": {},
   "outputs": [
    {
     "name": "stdout",
     "output_type": "stream",
     "text": [
      "[[19 22]\n",
      " [43 50]]\n",
      "[[23 34]\n",
      " [31 46]]\n"
     ]
    }
   ],
   "source": [
    "A = np.matrix('1 2; 3 4')\n",
    "B = np.matrix('5 6; 7 8')\n",
    "L = A.dot(B)\n",
    "R = B.dot(A)\n",
    "print(L)\n",
    "print(R)"
   ]
  },
  {
   "cell_type": "markdown",
   "id": "6806356c-95d7-483a-a5aa-310f12d4f4d4",
   "metadata": {},
   "source": [
    "33.3.4. Свойство 4: Произведение заданной матрицы на единичную равно исходной матрице:"
   ]
  },
  {
   "cell_type": "code",
   "execution_count": 532,
   "id": "c8ee6192-9405-47b8-905d-2894493dbb0a",
   "metadata": {},
   "outputs": [
    {
     "name": "stdout",
     "output_type": "stream",
     "text": [
      "[[1 2]\n",
      " [3 4]]\n",
      "[[1 2]\n",
      " [3 4]]\n",
      "[[1 2]\n",
      " [3 4]]\n"
     ]
    }
   ],
   "source": [
    "A = np.matrix('1 2; 3 4')\n",
    "E = np.matrix('1 0; 0 1')\n",
    "L = E.dot(A)\n",
    "R = A.dot(E)\n",
    "print(L)\n",
    "print(R)\n",
    "print(A)"
   ]
  },
  {
   "cell_type": "markdown",
   "id": "5e981068-ed04-4b5e-b6f6-d009ed774f9a",
   "metadata": {},
   "source": [
    "33.3.5. Свойство 5: Произведение заданной матрицы на нулевую матрицу равно нулевой матрице:"
   ]
  },
  {
   "cell_type": "code",
   "execution_count": 534,
   "id": "7be3f376-b734-4b8a-a6a1-b2d4fad0149e",
   "metadata": {},
   "outputs": [
    {
     "name": "stdout",
     "output_type": "stream",
     "text": [
      "[[0 0]\n",
      " [0 0]]\n",
      "[[0 0]\n",
      " [0 0]]\n",
      "[[0 0]\n",
      " [0 0]]\n"
     ]
    }
   ],
   "source": [
    "A = np.matrix('1 2; 3 4')\n",
    "Z = np.matrix('0 0; 0 0')\n",
    "L = Z.dot(A)\n",
    "R = A.dot(Z)\n",
    "print(L)\n",
    "print(R)\n",
    "print(Z)"
   ]
  },
  {
   "cell_type": "markdown",
   "id": "b7c01df8-cc8d-40e1-b818-4b9e2299a828",
   "metadata": {},
   "source": [
    "34. Определитель матрицы."
   ]
  },
  {
   "cell_type": "markdown",
   "id": "effe19c1-0a57-481e-9e5c-ab0415535fcf",
   "metadata": {},
   "source": [
    "34.1. Создадим матрицу 3х3."
   ]
  },
  {
   "cell_type": "code",
   "execution_count": 537,
   "id": "5e561292-f8c5-4efc-8323-a2dd82ec80bd",
   "metadata": {},
   "outputs": [
    {
     "name": "stdout",
     "output_type": "stream",
     "text": [
      "[[-4 -1  2]\n",
      " [10  4 -1]\n",
      " [ 8  3  1]]\n"
     ]
    }
   ],
   "source": [
    "A = np.matrix('-4 -1 2; 10 4 -1; 8 3 1')\n",
    "print(A)"
   ]
  },
  {
   "cell_type": "markdown",
   "id": "e4381621-c670-4d31-9171-f56f8792074f",
   "metadata": {},
   "source": [
    "34.2. Вычислим определитель с помощью функции det() и пакета linalg."
   ]
  },
  {
   "cell_type": "code",
   "execution_count": 539,
   "id": "e8fa6260-ec4b-4014-b712-e9cd89d35148",
   "metadata": {},
   "outputs": [
    {
     "name": "stdout",
     "output_type": "stream",
     "text": [
      "-14.000000000000009\n"
     ]
    }
   ],
   "source": [
    "print(np.linalg.det(A))"
   ]
  },
  {
   "cell_type": "markdown",
   "id": "bb719d2b-6024-45ae-aa13-ab5b3429d6c0",
   "metadata": {},
   "source": [
    "Свойства определителя матрицы."
   ]
  },
  {
   "cell_type": "markdown",
   "id": "4007d26a-527a-458e-bbcd-2d1d471c2021",
   "metadata": {},
   "source": [
    "34.3.1. Свойство 1: Определитель матрицы остается неизменным при ее транспонировании:"
   ]
  },
  {
   "cell_type": "code",
   "execution_count": 542,
   "id": "e30291e1-8503-40b4-846a-099603a31539",
   "metadata": {},
   "outputs": [
    {
     "name": "stdout",
     "output_type": "stream",
     "text": [
      "[[-4 -1  2]\n",
      " [10  4 -1]\n",
      " [ 8  3  1]]\n",
      "[[-4 10  8]\n",
      " [-1  4  3]\n",
      " [ 2 -1  1]]\n",
      "-14.0\n",
      "-14.0\n"
     ]
    }
   ],
   "source": [
    "A = np.matrix('-4 -1 2; 10 4 -1; 8 3 1')\n",
    "print(A)\n",
    "print(A.T)\n",
    "det_A = round(np.linalg.det(A), 3)\n",
    "det_A_t = round(np.linalg.det(A.T), 3)\n",
    "print(det_A)\n",
    "print(det_A_t)"
   ]
  },
  {
   "cell_type": "markdown",
   "id": "e9deb4ec-54d2-4f46-8a14-0d75b2d5434a",
   "metadata": {},
   "source": [
    "34.3.2. Свойство 2: Если у матрицы есть строки или столбец состоящие из нулей, то определитель такой матрицы равен нулю:"
   ]
  },
  {
   "cell_type": "code",
   "execution_count": 544,
   "id": "c9969c8f-5ee9-4a34-8a14-9e82f8ab45d8",
   "metadata": {},
   "outputs": [
    {
     "name": "stdout",
     "output_type": "stream",
     "text": [
      "[[-4 -1  2]\n",
      " [ 0  0  0]\n",
      " [ 8  3  1]]\n"
     ]
    },
    {
     "data": {
      "text/plain": [
       "0.0"
      ]
     },
     "execution_count": 544,
     "metadata": {},
     "output_type": "execute_result"
    }
   ],
   "source": [
    "A = np.matrix('-4 -1 2; 0 0 0; 8 3 1')\n",
    "print(A)\n",
    "np.linalg.det(A)"
   ]
  },
  {
   "cell_type": "markdown",
   "id": "8d27cf90-76ad-4e47-abfc-b9f7b22a1476",
   "metadata": {},
   "source": [
    "34.3.3. Свойство 3: При перестановке строк матрицы знак ее определителя меняется на противоположный:"
   ]
  },
  {
   "cell_type": "code",
   "execution_count": 546,
   "id": "79c9e21a-1be5-4d0e-8533-fe415961fc4e",
   "metadata": {},
   "outputs": [
    {
     "name": "stdout",
     "output_type": "stream",
     "text": [
      "[[-4 -1  2]\n",
      " [10  4 -1]\n",
      " [ 8  3  1]]\n",
      "[[10  4 -1]\n",
      " [-4 -1  2]\n",
      " [ 8  3  1]]\n"
     ]
    },
    {
     "data": {
      "text/plain": [
       "14.0"
      ]
     },
     "execution_count": 546,
     "metadata": {},
     "output_type": "execute_result"
    }
   ],
   "source": [
    "A = np.matrix('-4 -1 2; 10 4 -1; 8 3 1')\n",
    "print(A)\n",
    "B = np.matrix('10 4 -1; -4 -1 2; 8 3 1')\n",
    "print(B)\n",
    "round(np.linalg.det(A), 3)\n",
    "round(np.linalg.det(B), 3)"
   ]
  },
  {
   "cell_type": "markdown",
   "id": "e5659c8a-19de-45f9-b1b6-2cac501ce28f",
   "metadata": {},
   "source": [
    "34.3.4. Свойство 4: Если у матрицы есть две одинаковые строки, то ее определитель равен нулю:"
   ]
  },
  {
   "cell_type": "code",
   "execution_count": 548,
   "id": "d4534e95-c58f-4b35-99e2-20093c186a46",
   "metadata": {},
   "outputs": [
    {
     "name": "stdout",
     "output_type": "stream",
     "text": [
      "[[-4 -1  2]\n",
      " [-4 -1  2]\n",
      " [ 8  3  1]]\n"
     ]
    },
    {
     "data": {
      "text/plain": [
       "0.0"
      ]
     },
     "execution_count": 548,
     "metadata": {},
     "output_type": "execute_result"
    }
   ],
   "source": [
    "A = np.matrix('-4 -1 2; -4 -1 2; 8 3 1')\n",
    "print(A)\n",
    "np.linalg.det(A)"
   ]
  },
  {
   "cell_type": "markdown",
   "id": "a227b9a6-fb82-49c8-af27-d7f8f671ebba",
   "metadata": {},
   "source": [
    "34.3.5. Свойство 5: Если все элементы строки или стобца матрицы умножить на какое-то число, то определитель будет умножен на это число:"
   ]
  },
  {
   "cell_type": "code",
   "execution_count": 550,
   "id": "210670b7-e73a-4e0c-8991-2ca9f8c256d4",
   "metadata": {},
   "outputs": [
    {
     "name": "stdout",
     "output_type": "stream",
     "text": [
      "[[-4 -1  2]\n",
      " [10  4 -1]\n",
      " [ 8  3  1]]\n",
      "[[-4 -1  2]\n",
      " [10  4 -1]\n",
      " [16  6  2]]\n"
     ]
    },
    {
     "data": {
      "text/plain": [
       "-28.0"
      ]
     },
     "execution_count": 550,
     "metadata": {},
     "output_type": "execute_result"
    }
   ],
   "source": [
    "A = np.matrix('-4 -1 2; 10 4 -1; 8 3 1')\n",
    "print(A)\n",
    "k = 2\n",
    "B = A.copy()\n",
    "B[2, :] = k * B[2, :]\n",
    "print(B)\n",
    "det_A = round(np.linalg.det(A), 3)\n",
    "det_B = round(np.linalg.det(B), 3)\n",
    "det_A * k\n",
    "det_B"
   ]
  },
  {
   "cell_type": "markdown",
   "id": "ee6a7348-9d79-43d0-9df5-9ad507480ba7",
   "metadata": {},
   "source": [
    "34.3.6. Свойство 6: Если все элементы строки или столбца можно представить как сумму двух слагаемых, то определитель такой матрицы равен сумме определителей двух соответствующих матриц:"
   ]
  },
  {
   "cell_type": "code",
   "execution_count": 552,
   "id": "84b3767c-83b4-45b1-9738-098fe905a3bb",
   "metadata": {},
   "outputs": [
    {
     "name": "stdout",
     "output_type": "stream",
     "text": [
      "[[-4 -1  2]\n",
      " [ 4  2  4]\n",
      " [ 8  3  1]]\n",
      "[[-4 -1  2]\n",
      " [-4 -1  2]\n",
      " [ 8  3  1]]\n",
      "[[-4 -1  2]\n",
      " [ 8  3  2]\n",
      " [ 8  3  1]]\n",
      "4.0\n",
      "4.0\n"
     ]
    }
   ],
   "source": [
    "A = np.matrix('-4 -1 2; -4 -1 2; 8 3 1')\n",
    "B = np.matrix('-4 -1 2; 8 3 2; 8 3 1')\n",
    "C = A.copy()\n",
    "C[1, :] += B[1, :]\n",
    "print(C)\n",
    "print(A)\n",
    "print(B)\n",
    "print(round(np.linalg.det(C), 3))\n",
    "print(round(np.linalg.det(A), 3) + round(np.linalg.det(B), 3))"
   ]
  },
  {
   "cell_type": "markdown",
   "id": "9403c8b1-46c3-41fd-8599-453042f0c498",
   "metadata": {},
   "source": [
    "34.3.7. Свойство 7: Если к элементам одной строки прибавить элементы другой строки, умноженные на одно и тоже число, то определитель матрицы не изменится:"
   ]
  },
  {
   "cell_type": "code",
   "execution_count": 554,
   "id": "1d144b45-d007-4fc7-98fd-ac84aaebad33",
   "metadata": {},
   "outputs": [
    {
     "name": "stdout",
     "output_type": "stream",
     "text": [
      "[[-4 -1  2]\n",
      " [10  4 -1]\n",
      " [ 8  3  1]]\n",
      "[[-4 -1  2]\n",
      " [ 2  2  3]\n",
      " [ 8  3  1]]\n"
     ]
    },
    {
     "data": {
      "text/plain": [
       "-14.0"
      ]
     },
     "execution_count": 554,
     "metadata": {},
     "output_type": "execute_result"
    }
   ],
   "source": [
    "A = np.matrix('-4 -1 2; 10 4 -1; 8 3 1')\n",
    "k = 2\n",
    "B = A.copy()\n",
    "B[1, :] = B[1, :] + k * B[0, :]\n",
    "print(A)\n",
    "print(B)\n",
    "round(np.linalg.det(A), 3)\n",
    "round(np.linalg.det(B), 3)"
   ]
  },
  {
   "cell_type": "markdown",
   "id": "630504df-cc28-451a-b692-f30b0f8e2629",
   "metadata": {},
   "source": [
    "34.3.8. Свойство 8: Если строка или столбец матрицы является линейной комбинацией других строка (столбцов), то определитель такой матрицы равен нулю:"
   ]
  },
  {
   "cell_type": "code",
   "execution_count": 556,
   "id": "99921d41-2485-4154-8519-ad2c89dfc6cc",
   "metadata": {},
   "outputs": [
    {
     "name": "stdout",
     "output_type": "stream",
     "text": [
      "[[-4 -1  2]\n",
      " [10  4 -1]\n",
      " [ 8  3  1]]\n"
     ]
    },
    {
     "data": {
      "text/plain": [
       "0.0"
      ]
     },
     "execution_count": 556,
     "metadata": {},
     "output_type": "execute_result"
    }
   ],
   "source": [
    "A = np.matrix('-4 -1 2; 10 4 -1; 8 3 1')\n",
    "print(A)\n",
    "k = 2\n",
    "A[1, :] = A[0, :] + k * A[2, :]\n",
    "round(np.linalg.det(A), 3)"
   ]
  },
  {
   "cell_type": "markdown",
   "id": "fa9ec794-ee87-45bc-bcc3-d90db8317dfe",
   "metadata": {},
   "source": [
    "34.3.9. Свойство 9: Если матрица содержит пропорциональные строки, то ее определитель равен нулю:"
   ]
  },
  {
   "cell_type": "code",
   "execution_count": 558,
   "id": "4f513795-6a71-45a3-860d-c9810b962b19",
   "metadata": {},
   "outputs": [
    {
     "name": "stdout",
     "output_type": "stream",
     "text": [
      "[[-4 -1  2]\n",
      " [10  4 -1]\n",
      " [ 8  3  1]]\n",
      "[[-4 -1  2]\n",
      " [-8 -2  4]\n",
      " [ 8  3  1]]\n"
     ]
    },
    {
     "data": {
      "text/plain": [
       "0.0"
      ]
     },
     "execution_count": 558,
     "metadata": {},
     "output_type": "execute_result"
    }
   ],
   "source": [
    "A = np.matrix('-4 -1 2; 10 4 -1; 8 3 1')\n",
    "print(A)\n",
    "k = 2\n",
    "A[1, :] = k * A[0, :]\n",
    "print(A)\n",
    "round(np.linalg.det(A), 3)"
   ]
  },
  {
   "cell_type": "markdown",
   "id": "b472cab6-a411-40da-a27f-e194e0de8822",
   "metadata": {},
   "source": [
    "35. Обратная матрица"
   ]
  },
  {
   "cell_type": "markdown",
   "id": "76d5a278-dcde-4431-b07e-03e14382d08e",
   "metadata": {},
   "source": [
    "35.1. Для получения обратной матрицы матрицы используем функцию inv()."
   ]
  },
  {
   "cell_type": "code",
   "execution_count": 561,
   "id": "e8a6b749-0733-4ffc-b6e8-659db9c57bf3",
   "metadata": {},
   "outputs": [
    {
     "name": "stdout",
     "output_type": "stream",
     "text": [
      "[[ 0.45454545  0.27272727]\n",
      " [-0.18181818  0.09090909]]\n"
     ]
    }
   ],
   "source": [
    "A = np.matrix('1 -3; 2 5')\n",
    "A_inv = np.linalg.inv(A)\n",
    "print(A_inv)"
   ]
  },
  {
   "cell_type": "markdown",
   "id": "ba49fd5f-a100-4f38-82d8-7c52534dca75",
   "metadata": {},
   "source": [
    "Рассмотрим свойства обратной матрицы."
   ]
  },
  {
   "cell_type": "markdown",
   "id": "5dc39f2b-69d7-412d-b8a8-6a2e5ab397ac",
   "metadata": {},
   "source": [
    "35.2.1. Свойство 1: Обратная матрица обратной матрицы есть исходная матрица:"
   ]
  },
  {
   "cell_type": "code",
   "execution_count": 564,
   "id": "18c87b65-2380-43b7-8510-8f60402424fb",
   "metadata": {},
   "outputs": [
    {
     "name": "stdout",
     "output_type": "stream",
     "text": [
      "[[ 1. -3.]\n",
      " [ 2.  5.]]\n",
      "[[ 1. -3.]\n",
      " [ 2.  5.]]\n"
     ]
    }
   ],
   "source": [
    "A = np.matrix('1. -3.; 2. 5.')\n",
    "A_inv = np.linalg.inv(A)\n",
    "A_inv_inv = np.linalg.inv(A_inv)\n",
    "print(A)\n",
    "print(A_inv_inv)"
   ]
  },
  {
   "cell_type": "markdown",
   "id": "ff623214-0f7f-4fca-b0b1-8f260cdc1e75",
   "metadata": {},
   "source": [
    "35.2.2. Свойство 2: Обратная матрица транспонированной матрицы равна транспонированной матрице от обратной матрицы:"
   ]
  },
  {
   "cell_type": "code",
   "execution_count": 566,
   "id": "f4a4761b-7fb5-4267-bd83-d031815e3aba",
   "metadata": {},
   "outputs": [
    {
     "name": "stdout",
     "output_type": "stream",
     "text": [
      "[[ 0.45454545 -0.18181818]\n",
      " [ 0.27272727  0.09090909]]\n",
      "[[ 0.45454545 -0.18181818]\n",
      " [ 0.27272727  0.09090909]]\n"
     ]
    }
   ],
   "source": [
    "A = np.matrix('1. -3.; 2. 5.')\n",
    "L = np.linalg.inv(A.T)\n",
    "R = (np.linalg.inv(A)).T\n",
    "print(L)\n",
    "print(R)"
   ]
  },
  {
   "cell_type": "markdown",
   "id": "bd874190-02e7-49d0-9eac-511565486731",
   "metadata": {},
   "source": [
    "35.2.3. Свойство 3: Обратная матрица произведения матриц равна произведению обратных матриц:"
   ]
  },
  {
   "cell_type": "code",
   "execution_count": 568,
   "id": "95f58193-1205-4ded-8463-246e4e5acdce",
   "metadata": {},
   "outputs": [
    {
     "name": "stdout",
     "output_type": "stream",
     "text": [
      "[[ 0.09454545  0.03272727]\n",
      " [-0.03454545  0.00727273]]\n",
      "[[ 0.09454545  0.03272727]\n",
      " [-0.03454545  0.00727273]]\n"
     ]
    }
   ],
   "source": [
    "A = np.matrix('1. -3.; 2. 5.')\n",
    "B = np.matrix('7. 6.; 1. 8.')\n",
    "L = np.linalg.inv(A.dot(B))\n",
    "R = np.linalg.inv(B).dot(np.linalg.inv(A))\n",
    "print(L)\n",
    "print(R)"
   ]
  },
  {
   "cell_type": "markdown",
   "id": "217f4707-8e12-4252-8004-8a5c3bcc5586",
   "metadata": {},
   "source": [
    "36. Ранг матрицы."
   ]
  },
  {
   "cell_type": "markdown",
   "id": "52fc97fb-b602-49fa-9663-4a6e13a0335c",
   "metadata": {},
   "source": [
    "36.1. Создадим единичную матрицу:"
   ]
  },
  {
   "cell_type": "code",
   "execution_count": 571,
   "id": "3d9de1b8-47b2-4917-8fb5-83a9c0045174",
   "metadata": {},
   "outputs": [
    {
     "name": "stdout",
     "output_type": "stream",
     "text": [
      "[[1. 0. 0. 0.]\n",
      " [0. 1. 0. 0.]\n",
      " [0. 0. 1. 0.]\n",
      " [0. 0. 0. 1.]]\n"
     ]
    }
   ],
   "source": [
    "m_eye = np.eye(4)\n",
    "print(m_eye)"
   ]
  },
  {
   "cell_type": "markdown",
   "id": "e8451d81-5539-4014-88b8-a804fbd74aa0",
   "metadata": {},
   "source": [
    "36.2. Ранг матрицы равен количеству ее столбцов (или строк), в нашем случае ранг будет равен четырем для его вычисления на Python воспользуемся функцией matrix_rank():"
   ]
  },
  {
   "cell_type": "code",
   "execution_count": 573,
   "id": "9626f06c-ba61-4205-bd6f-e79d1c6cfd6f",
   "metadata": {},
   "outputs": [
    {
     "name": "stdout",
     "output_type": "stream",
     "text": [
      "4\n"
     ]
    }
   ],
   "source": [
    "rank = np.linalg.matrix_rank(m_eye)\n",
    "print(rank)"
   ]
  },
  {
   "cell_type": "markdown",
   "id": "81d8a6d5-ce86-4ddc-91a0-a1e3b39d7184",
   "metadata": {},
   "source": [
    "36.3. Если мы приравняем элемент в нижнем правом углу к нулю, то ранг станет равен трем:"
   ]
  },
  {
   "cell_type": "code",
   "execution_count": 575,
   "id": "2c4de615-4a13-4391-ab53-b9a9a980bfd6",
   "metadata": {},
   "outputs": [
    {
     "name": "stdout",
     "output_type": "stream",
     "text": [
      "[[1. 0. 0. 0.]\n",
      " [0. 1. 0. 0.]\n",
      " [0. 0. 1. 0.]\n",
      " [0. 0. 0. 0.]]\n",
      "3\n"
     ]
    }
   ],
   "source": [
    "m_eye[3][3] = 0\n",
    "print(m_eye)\n",
    "rank = np.linalg.matrix_rank(m_eye)\n",
    "print(rank)"
   ]
  },
  {
   "cell_type": "code",
   "execution_count": null,
   "id": "295d2fdd-7b9e-45d1-afc4-cd6930add731",
   "metadata": {},
   "outputs": [],
   "source": []
  }
 ],
 "metadata": {
  "kernelspec": {
   "display_name": "Python [conda env:base] *",
   "language": "python",
   "name": "conda-base-py"
  },
  "language_info": {
   "codemirror_mode": {
    "name": "ipython",
    "version": 3
   },
   "file_extension": ".py",
   "mimetype": "text/x-python",
   "name": "python",
   "nbconvert_exporter": "python",
   "pygments_lexer": "ipython3",
   "version": "3.12.7"
  }
 },
 "nbformat": 4,
 "nbformat_minor": 5
}
